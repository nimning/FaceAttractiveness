{
 "cells": [
  {
   "cell_type": "code",
   "execution_count": 4,
   "metadata": {},
   "outputs": [],
   "source": [
    "#load data\n",
    "import numpy as np\n",
    "features = np.loadtxt('./data/features_aLL.txt', delimiter=',')\n",
    "ratings = np.loadtxt('./data/ratings.txt', delimiter=',')"
   ]
  },
  {
   "cell_type": "code",
   "execution_count": 12,
   "metadata": {},
   "outputs": [
    {
     "name": "stdout",
     "output_type": "stream",
     "text": [
      "(500L, 11628L)\n"
     ]
    },
    {
     "data": {
      "text/plain": [
       "array([[ 1.0736,  1.0444,  4.1168, ...,  3.1341,  0.9644,  1.0793],\n",
       "       [ 1.0385,  1.0271,  4.8245, ...,  3.3793,  0.9017,  1.0563],\n",
       "       [ 1.0466,  1.0283,  3.9231, ...,  3.3417,  0.8819,  1.0623],\n",
       "       ..., \n",
       "       [ 0.9809,  0.9895,  4.1113, ...,  3.1299,  0.8564,  1.0504],\n",
       "       [ 1.0367,  1.0219,  3.5566, ...,  2.8959,  0.8623,  1.0753],\n",
       "       [ 1.0021,  1.0031,  4.2707, ...,  3.6416,  0.8842,  1.0484]])"
      ]
     },
     "execution_count": 12,
     "metadata": {},
     "output_type": "execute_result"
    }
   ],
   "source": [
    "print (features).shape\n",
    "features"
   ]
  },
  {
   "cell_type": "code",
   "execution_count": null,
   "metadata": {
    "collapsed": true
   },
   "outputs": [],
   "source": []
  }
 ],
 "metadata": {
  "kernelspec": {
   "display_name": "Python 2",
   "language": "python",
   "name": "python2"
  },
  "language_info": {
   "codemirror_mode": {
    "name": "ipython",
    "version": 2
   },
   "file_extension": ".py",
   "mimetype": "text/x-python",
   "name": "python",
   "nbconvert_exporter": "python",
   "pygments_lexer": "ipython2",
   "version": "2.7.13"
  }
 },
 "nbformat": 4,
 "nbformat_minor": 2
}
