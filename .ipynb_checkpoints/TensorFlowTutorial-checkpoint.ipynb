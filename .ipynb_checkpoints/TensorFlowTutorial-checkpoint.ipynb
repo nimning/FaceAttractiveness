{
 "cells": [
  {
   "cell_type": "code",
   "execution_count": 1,
   "metadata": {
    "collapsed": true
   },
   "outputs": [],
   "source": [
    "import tensorflow as tf"
   ]
  },
  {
   "cell_type": "code",
   "execution_count": 2,
   "metadata": {},
   "outputs": [
    {
     "name": "stdout",
     "output_type": "stream",
     "text": [
      "Tensor(\"Const:0\", shape=(), dtype=float32) Tensor(\"Const_1:0\", shape=(), dtype=float32)\n"
     ]
    }
   ],
   "source": [
    "#define constant\n",
    "node1 = tf.constant(3.0, dtype = tf.float32)\n",
    "node2 = tf.constant(4.0, dtype = tf.float32)\n",
    "print(node1, node2)"
   ]
  },
  {
   "cell_type": "code",
   "execution_count": 3,
   "metadata": {},
   "outputs": [
    {
     "name": "stdout",
     "output_type": "stream",
     "text": [
      "[3.0, 4.0]\n"
     ]
    }
   ],
   "source": [
    "#session: run the computational graph in the session\n",
    "sess = tf.Session()\n",
    "print(sess.run([node1, node2]))"
   ]
  },
  {
   "cell_type": "code",
   "execution_count": 4,
   "metadata": {},
   "outputs": [
    {
     "name": "stdout",
     "output_type": "stream",
     "text": [
      "node3:  Tensor(\"Add:0\", shape=(), dtype=float32)\n",
      "sess.run(node3):  Tensor(\"Add:0\", shape=(), dtype=float32)\n"
     ]
    }
   ],
   "source": [
    "#operation\n",
    "node3 = tf.add(node1, node2)\n",
    "print(\"node3: \", node3)\n",
    "print(\"sess.run(node3): \", node3)"
   ]
  },
  {
   "cell_type": "code",
   "execution_count": 5,
   "metadata": {
    "collapsed": true
   },
   "outputs": [],
   "source": [
    "#variables to accept external inputs\n",
    "a = tf.placeholder(tf.float32)\n",
    "b = tf.placeholder(tf.float32)\n",
    "adder_node = a + b"
   ]
  },
  {
   "cell_type": "code",
   "execution_count": 6,
   "metadata": {},
   "outputs": [
    {
     "name": "stdout",
     "output_type": "stream",
     "text": [
      "7.5\n",
      "[ 3.  7.]\n"
     ]
    }
   ],
   "source": [
    "print(sess.run(adder_node, {a:3, b:4.5}))\n",
    "print(sess.run(adder_node, {a:[1,3], b:[2,4]}))"
   ]
  },
  {
   "cell_type": "code",
   "execution_count": 7,
   "metadata": {},
   "outputs": [
    {
     "name": "stdout",
     "output_type": "stream",
     "text": [
      "22.5\n"
     ]
    }
   ],
   "source": [
    "add_and_triple = adder_node * 3.\n",
    "print(sess.run(add_and_triple, {a:3, b:4.5}))"
   ]
  },
  {
   "cell_type": "markdown",
   "metadata": {
    "collapsed": true
   },
   "source": [
    "## Machine learning training: linear model"
   ]
  },
  {
   "cell_type": "code",
   "execution_count": 15,
   "metadata": {},
   "outputs": [],
   "source": [
    "#define parameters to be learned\n",
    "W = tf.Variable([0.3], dtype = tf.float32)\n",
    "b= tf.Variable([-0.3], dtype = tf.float32)\n",
    "x = tf.placeholder(tf.float32)\n",
    "linear_model = W * x + b\n",
    "\n",
    "#initial variable\n",
    "init = tf.global_variables_initializer()\n",
    "sess.run(init)"
   ]
  },
  {
   "cell_type": "code",
   "execution_count": 16,
   "metadata": {},
   "outputs": [
    {
     "name": "stdout",
     "output_type": "stream",
     "text": [
      "[ 0.          0.30000001  0.60000002  0.90000004]\n"
     ]
    }
   ],
   "source": [
    "#evaluate linear model for different x\n",
    "print(sess.run(linear_model, {x:[1,2,3,4]}))"
   ]
  },
  {
   "cell_type": "code",
   "execution_count": 17,
   "metadata": {},
   "outputs": [
    {
     "name": "stdout",
     "output_type": "stream",
     "text": [
      "23.66\n"
     ]
    }
   ],
   "source": [
    "y = tf.placeholder(tf.float32)\n",
    "squared_deltas = tf.square(linear_model - y)\n",
    "loss = tf.reduce_sum(squared_deltas)\n",
    "print(sess.run(loss, {x:[1,2,3,4],y:[0, -1, -2, -3]}))"
   ]
  },
  {
   "cell_type": "code",
   "execution_count": 18,
   "metadata": {},
   "outputs": [
    {
     "name": "stdout",
     "output_type": "stream",
     "text": [
      "0.0\n"
     ]
    }
   ],
   "source": [
    "fixW = tf.assign(W, [-1.])\n",
    "fixb = tf.assign(b, [1.])\n",
    "sess.run([fixW, fixb])\n",
    "print(sess.run(loss, {x:[1,2,3,4], y:[0, -1, -2, -3]}))"
   ]
  },
  {
   "cell_type": "code",
   "execution_count": 21,
   "metadata": {},
   "outputs": [
    {
     "name": "stdout",
     "output_type": "stream",
     "text": [
      "[array([-0.9999969], dtype=float32), array([ 0.99999082], dtype=float32)]\n"
     ]
    }
   ],
   "source": [
    "optimizer = tf.train.GradientDescentOptimizer(0.01)\n",
    "train = optimizer.minimize(loss)\n",
    "\n",
    "sess.run(init)\n",
    "for i in range(1000):\n",
    "    sess.run(train, {x:[1,2,3,4], y:[0,-1,-2, -3]})\n",
    "\n",
    "print(sess.run([W,b]))"
   ]
  },
  {
   "cell_type": "markdown",
   "metadata": {},
   "source": [
    "## Using tf.contrib.learn"
   ]
  },
  {
   "cell_type": "code",
   "execution_count": 30,
   "metadata": {
    "collapsed": true
   },
   "outputs": [],
   "source": [
    "import numpy as np\n",
    "import tensorflow as tf\n",
    "#Declare list of  features. only one real-valued feature\n",
    "#Other types of columns are more complicated \n",
    "features = [tf.contrib.layers.real_valued_column(\"x\", dimension=1)]\n"
   ]
  },
  {
   "cell_type": "code",
   "execution_count": 29,
   "metadata": {},
   "outputs": [
    {
     "name": "stdout",
     "output_type": "stream",
     "text": [
      "INFO:tensorflow:Using default config.\n",
      "WARNING:tensorflow:Using temporary folder as model directory: C:\\Users\\ninm\\AppData\\Local\\Temp\\tmpypcj2xe3\n",
      "INFO:tensorflow:Using config: {'_master': '', '_is_chief': True, '_tf_random_seed': None, '_save_summary_steps': 100, '_environment': 'local', '_evaluation_master': '', '_keep_checkpoint_max': 5, '_num_ps_replicas': 0, '_task_id': 0, '_session_config': None, '_cluster_spec': <tensorflow.python.training.server_lib.ClusterSpec object at 0x00000232F34E05C0>, '_task_type': None, '_tf_config': gpu_options {\n",
      "  per_process_gpu_memory_fraction: 1\n",
      "}\n",
      ", '_model_dir': 'C:\\\\Users\\\\ninm\\\\AppData\\\\Local\\\\Temp\\\\tmpypcj2xe3', '_save_checkpoints_steps': None, '_save_checkpoints_secs': 600, '_keep_checkpoint_every_n_hours': 10000, '_num_worker_replicas': 0}\n",
      "WARNING:tensorflow:From C:\\Users\\ninm\\Software\\Anaconda\\envs\\tensorflow\\lib\\site-packages\\tensorflow\\contrib\\learn\\python\\learn\\estimators\\head.py:625: scalar_summary (from tensorflow.python.ops.logging_ops) is deprecated and will be removed after 2016-11-30.\n",
      "Instructions for updating:\n",
      "Please switch to tf.summary.scalar. Note that tf.summary.scalar uses the node name instead of the tag. This means that TensorFlow will automatically de-duplicate summary names based on the scope they are created in. Also, passing a tensor or list of tags to a scalar summary op is no longer supported.\n",
      "INFO:tensorflow:Create CheckpointSaverHook.\n",
      "INFO:tensorflow:Saving checkpoints for 1 into C:\\Users\\ninm\\AppData\\Local\\Temp\\tmpypcj2xe3\\model.ckpt.\n",
      "INFO:tensorflow:step = 1, loss = 12.25\n",
      "INFO:tensorflow:global_step/sec: 675.663\n",
      "INFO:tensorflow:step = 101, loss = 12.3362 (0.150 sec)\n",
      "INFO:tensorflow:global_step/sec: 617.281\n",
      "INFO:tensorflow:step = 201, loss = 6.26627 (0.161 sec)\n",
      "INFO:tensorflow:global_step/sec: 819.663\n",
      "INFO:tensorflow:step = 301, loss = 11.2406 (0.123 sec)\n",
      "INFO:tensorflow:global_step/sec: 819.619\n",
      "INFO:tensorflow:step = 401, loss = 3.93254 (0.123 sec)\n",
      "INFO:tensorflow:global_step/sec: 625.013\n",
      "INFO:tensorflow:step = 501, loss = 1.69979 (0.158 sec)\n",
      "INFO:tensorflow:global_step/sec: 657.828\n",
      "INFO:tensorflow:step = 601, loss = 8.75653 (0.152 sec)\n",
      "INFO:tensorflow:global_step/sec: 657.947\n",
      "INFO:tensorflow:step = 701, loss = 9.87861 (0.153 sec)\n",
      "INFO:tensorflow:global_step/sec: 990.082\n",
      "INFO:tensorflow:step = 801, loss = 10.0619 (0.100 sec)\n",
      "INFO:tensorflow:global_step/sec: 1408.44\n",
      "INFO:tensorflow:step = 901, loss = 7.44747 (0.071 sec)\n",
      "INFO:tensorflow:Saving checkpoints for 1000 into C:\\Users\\ninm\\AppData\\Local\\Temp\\tmpypcj2xe3\\model.ckpt.\n",
      "INFO:tensorflow:Loss for final step: 4.70605.\n",
      "WARNING:tensorflow:From C:\\Users\\ninm\\Software\\Anaconda\\envs\\tensorflow\\lib\\site-packages\\tensorflow\\contrib\\learn\\python\\learn\\estimators\\head.py:625: scalar_summary (from tensorflow.python.ops.logging_ops) is deprecated and will be removed after 2016-11-30.\n",
      "Instructions for updating:\n",
      "Please switch to tf.summary.scalar. Note that tf.summary.scalar uses the node name instead of the tag. This means that TensorFlow will automatically de-duplicate summary names based on the scope they are created in. Also, passing a tensor or list of tags to a scalar summary op is no longer supported.\n",
      "INFO:tensorflow:Starting evaluation at 2017-08-01-05:15:27\n",
      "INFO:tensorflow:Restoring parameters from C:\\Users\\ninm\\AppData\\Local\\Temp\\tmpypcj2xe3\\model.ckpt-1000\n",
      "INFO:tensorflow:Finished evaluation at 2017-08-01-05:15:28\n",
      "INFO:tensorflow:Saving dict for global step 1000: global_step = 1000, loss = 7.69349\n",
      "WARNING:tensorflow:From C:\\Users\\ninm\\Software\\Anaconda\\envs\\tensorflow\\lib\\site-packages\\tensorflow\\contrib\\learn\\python\\learn\\estimators\\head.py:625: scalar_summary (from tensorflow.python.ops.logging_ops) is deprecated and will be removed after 2016-11-30.\n",
      "Instructions for updating:\n",
      "Please switch to tf.summary.scalar. Note that tf.summary.scalar uses the node name instead of the tag. This means that TensorFlow will automatically de-duplicate summary names based on the scope they are created in. Also, passing a tensor or list of tags to a scalar summary op is no longer supported.\n",
      "INFO:tensorflow:Starting evaluation at 2017-08-01-05:15:28\n",
      "INFO:tensorflow:Restoring parameters from C:\\Users\\ninm\\AppData\\Local\\Temp\\tmpypcj2xe3\\model.ckpt-1000\n",
      "INFO:tensorflow:Finished evaluation at 2017-08-01-05:15:29\n",
      "INFO:tensorflow:Saving dict for global step 1000: global_step = 1000, loss = 3.59439\n",
      "train loss: {'loss': 7.6934876, 'global_step': 1000}\n",
      "eval loss: {'loss': 3.5943873, 'global_step': 1000}\n"
     ]
    }
   ],
   "source": [
    "# An estimator is the front end to invoke training (fitting) and evaluation\n",
    "# (inference). There are many predefined types like linear regression,\n",
    "# logistic regression, linear classification, logistic classification, and\n",
    "# many neural network classifiers and regressors. The following code\n",
    "# provides an estimator that does linear regression\n",
    "estimator = tf.contrib.learn.LinearRegressor(feature_columns=features)\n",
    "\n",
    "# TensorFlow provides many helper methods to read and set up data sets.\n",
    "# Here we use two data sets: one for training and one for evaluation\n",
    "# We have to tell the function how many batches\n",
    "# of data (num_epochs) we want and how big each batch should be.\n",
    "x_train = np.array([1.0, 2.0, 3.0, 4.0])\n",
    "y_train = np.array([0.0, -1.0, -2.0, -3.0])\n",
    "x_eval = np.array([2.0, 5.0, 8.0, 1.0])\n",
    "y_eval = np.array([-1.01, -4.1, -7.0, 0.0])\n",
    "\n",
    "input_fn = tf.contrib.learn.io.numpy_input_fn({\"x\":x_train}, y_eval, batch_size=4, num_epochs = 1000)\n",
    "eval_input_fn = tf.contrib.learn.io.numpy_input_fn({\"x\":x_eval}, y_eval, batch_size = 4, num_epochs=1000)\n",
    "\n",
    "# We can invoke 1000 training steps by invoking the  method and passing the\n",
    "# training data set.\n",
    "#An epoch usually means one iteration over all of the training data. \n",
    "#For instance if you have 20,000 images and a batch size of 100 \n",
    "#then the epoch should contain 20,000 / 100 = 200 steps. \n",
    "#However you can usually just set a fixed number of steps like 1000 per epoch \n",
    "#even though you have a much larger data set\n",
    "estimator.fit(input_fn=input_fn, steps=1000)\n",
    "\n",
    "#Here we evaluate how well our model did\n",
    "train_loss = estimator.evaluate(input_fn = input_fn)\n",
    "eval_loss = estimator.evaluate(input_fn = eval_input_fn)\n",
    "print(\"train loss: %r\" % train_loss)\n",
    "print(\"eval loss: %r\" % eval_loss)"
   ]
  },
  {
   "cell_type": "markdown",
   "metadata": {},
   "source": [
    "## Custom model: define model not built in TF"
   ]
  },
  {
   "cell_type": "code",
   "execution_count": 31,
   "metadata": {
    "collapsed": true
   },
   "outputs": [],
   "source": [
    "import numpy as np\n",
    "import tensorflow as tf"
   ]
  },
  {
   "cell_type": "code",
   "execution_count": 35,
   "metadata": {},
   "outputs": [
    {
     "name": "stdout",
     "output_type": "stream",
     "text": [
      "INFO:tensorflow:Using default config.\n",
      "WARNING:tensorflow:Using temporary folder as model directory: C:\\Users\\ninm\\AppData\\Local\\Temp\\tmpl4xg0a90\n",
      "INFO:tensorflow:Using config: {'_master': '', '_is_chief': True, '_tf_random_seed': None, '_save_summary_steps': 100, '_environment': 'local', '_evaluation_master': '', '_keep_checkpoint_max': 5, '_num_ps_replicas': 0, '_task_id': 0, '_session_config': None, '_cluster_spec': <tensorflow.python.training.server_lib.ClusterSpec object at 0x00000232F3342630>, '_task_type': None, '_tf_config': gpu_options {\n",
      "  per_process_gpu_memory_fraction: 1\n",
      "}\n",
      ", '_model_dir': 'C:\\\\Users\\\\ninm\\\\AppData\\\\Local\\\\Temp\\\\tmpl4xg0a90', '_save_checkpoints_steps': None, '_save_checkpoints_secs': 600, '_keep_checkpoint_every_n_hours': 10000, '_num_worker_replicas': 0}\n",
      "INFO:tensorflow:Create CheckpointSaverHook.\n",
      "INFO:tensorflow:Saving checkpoints for 1 into C:\\Users\\ninm\\AppData\\Local\\Temp\\tmpl4xg0a90\\model.ckpt.\n",
      "INFO:tensorflow:step = 1, loss = 25.5158079045\n",
      "INFO:tensorflow:global_step/sec: 833.321\n",
      "INFO:tensorflow:step = 101, loss = 0.150575879582 (0.122 sec)\n",
      "INFO:tensorflow:global_step/sec: 1020.4\n",
      "INFO:tensorflow:step = 201, loss = 0.0358334689163 (0.099 sec)\n",
      "INFO:tensorflow:global_step/sec: 989.963\n",
      "INFO:tensorflow:step = 301, loss = 0.000293175019558 (0.100 sec)\n",
      "INFO:tensorflow:global_step/sec: 1128.55\n",
      "INFO:tensorflow:step = 401, loss = 0.000211115249816 (0.087 sec)\n",
      "INFO:tensorflow:global_step/sec: 1002.81\n",
      "INFO:tensorflow:step = 501, loss = 9.59430184622e-06 (0.100 sec)\n",
      "INFO:tensorflow:global_step/sec: 888.703\n",
      "INFO:tensorflow:step = 601, loss = 1.89211500761e-06 (0.115 sec)\n",
      "INFO:tensorflow:global_step/sec: 969.795\n",
      "INFO:tensorflow:step = 701, loss = 5.42973115843e-08 (0.101 sec)\n",
      "INFO:tensorflow:global_step/sec: 1028.86\n",
      "INFO:tensorflow:step = 801, loss = 1.68188263791e-08 (0.105 sec)\n",
      "INFO:tensorflow:global_step/sec: 1162.78\n",
      "INFO:tensorflow:step = 901, loss = 3.90902320083e-10 (0.082 sec)\n",
      "INFO:tensorflow:Saving checkpoints for 1000 into C:\\Users\\ninm\\AppData\\Local\\Temp\\tmpl4xg0a90\\model.ckpt.\n",
      "INFO:tensorflow:Loss for final step: 1.13493895522e-10.\n",
      "INFO:tensorflow:Starting evaluation at 2017-08-01-05:45:18\n",
      "INFO:tensorflow:Restoring parameters from C:\\Users\\ninm\\AppData\\Local\\Temp\\tmpl4xg0a90\\model.ckpt-1000\n",
      "INFO:tensorflow:Finished evaluation at 2017-08-01-05:45:18\n",
      "INFO:tensorflow:Saving dict for global step 1000: global_step = 1000, loss = 7.18949e-11\n",
      "INFO:tensorflow:Starting evaluation at 2017-08-01-05:45:19\n",
      "INFO:tensorflow:Restoring parameters from C:\\Users\\ninm\\AppData\\Local\\Temp\\tmpl4xg0a90\\model.ckpt-1000\n",
      "INFO:tensorflow:Finished evaluation at 2017-08-01-05:45:20\n",
      "INFO:tensorflow:Saving dict for global step 1000: global_step = 1000, loss = 0.0101013\n",
      "train loss: {'loss': 7.18949e-11, 'global_step': 1000}\n",
      "eval loss: {'loss': 0.010101314, 'global_step': 1000}\n"
     ]
    }
   ],
   "source": [
    "#Declare a list fo feature. We only have one real-valued feature\n",
    "def model(features, labels, mode):\n",
    "    #build linear model and predict values\n",
    "    #Gets an existing variable with these parameters or create a new one.\n",
    "    W = tf.get_variable('W', [1], dtype = tf.float64)\n",
    "    b = tf.get_variable('b', [1], dtype = tf.float64)\n",
    "    y = W*features['x'] + b\n",
    "    #loss sub-graph\n",
    "    loss = tf.reduce_sum(tf.square(y - labels))\n",
    "    #Train\n",
    "    global_step = tf.train.get_global_step()\n",
    "    optimizer = tf.train.GradientDescentOptimizer(0.01)\n",
    "    train = tf.group(optimizer.minimize(loss), tf.assign_add(global_step, 1))\n",
    "    \n",
    "    #ModelFnOps connects subgraphs we built to the appropriate functionality\n",
    "    return tf.contrib.learn.ModelFnOps(mode = mode, predictions = y, loss = loss, train_op = train)\n",
    "\n",
    "\n",
    "\n",
    "estimator = tf.contrib.learn.Estimator(model_fn = model)\n",
    "#define our data set\n",
    "x_train = np.array([1.0, 2.0, 3.0, 4.0])\n",
    "y_train = np.array([0.0, -1.0, -2.0, -3.0])\n",
    "x_eval = np.array([2.0, 5.0, 8.0, 1.0])\n",
    "y_eval = np.array([-1.01, -4.1, -7.0, 0.0])\n",
    "\n",
    "input_fn = tf.contrib.learn.io.numpy_input_fn({\"x\": x_train}, y_train, 4, num_epochs = 1000)\n",
    "\n",
    "#train\n",
    "estimator.fit(input_fn = input_fn, steps=1000)\n",
    "train_loss = estimator.evaluate(input_fn=input_fn)\n",
    "eval_loss = estimator.evaluate(input_fn=eval_input_fn)\n",
    "print(\"train loss: %r\" % train_loss)\n",
    "print(\"eval loss: %r\" % eval_loss)"
   ]
  },
  {
   "cell_type": "code",
   "execution_count": null,
   "metadata": {
    "collapsed": true
   },
   "outputs": [],
   "source": []
  }
 ],
 "metadata": {
  "kernelspec": {
   "display_name": "Python 3",
   "language": "python",
   "name": "python3"
  },
  "language_info": {
   "codemirror_mode": {
    "name": "ipython",
    "version": 3
   },
   "file_extension": ".py",
   "mimetype": "text/x-python",
   "name": "python",
   "nbconvert_exporter": "python",
   "pygments_lexer": "ipython3",
   "version": "3.5.3"
  }
 },
 "nbformat": 4,
 "nbformat_minor": 2
}
